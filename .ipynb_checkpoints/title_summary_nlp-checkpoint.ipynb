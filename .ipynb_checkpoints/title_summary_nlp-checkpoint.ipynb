{
 "cells": [
  {
   "cell_type": "markdown",
   "metadata": {},
   "source": [
    "### Indeed.ca Internship Summary"
   ]
  },
  {
   "cell_type": "raw",
   "metadata": {},
   "source": [
    "#### Git push to git@github.com:jodiqiao/internship_analysis.git"
   ]
  },
  {
   "cell_type": "code",
   "execution_count": 2,
   "metadata": {},
   "outputs": [],
   "source": [
    "import pandas as pd\n",
    "import numpy as np\n",
    "import matplotlib.pyplot as plt"
   ]
  },
  {
   "cell_type": "code",
   "execution_count": 120,
   "metadata": {},
   "outputs": [],
   "source": [
    "df = pd.read_csv(\"sept_final_scrape.csv\",usecols = ['job_title','company_name','summary'])"
   ]
  },
  {
   "cell_type": "code",
   "execution_count": 91,
   "metadata": {},
   "outputs": [
    {
     "data": {
      "text/html": [
       "<div>\n",
       "<style scoped>\n",
       "    .dataframe tbody tr th:only-of-type {\n",
       "        vertical-align: middle;\n",
       "    }\n",
       "\n",
       "    .dataframe tbody tr th {\n",
       "        vertical-align: top;\n",
       "    }\n",
       "\n",
       "    .dataframe thead th {\n",
       "        text-align: right;\n",
       "    }\n",
       "</style>\n",
       "<table border=\"1\" class=\"dataframe\">\n",
       "  <thead>\n",
       "    <tr style=\"text-align: right;\">\n",
       "      <th></th>\n",
       "      <th>job_title</th>\n",
       "      <th>company_name</th>\n",
       "      <th>summary</th>\n",
       "    </tr>\n",
       "  </thead>\n",
       "  <tbody>\n",
       "    <tr>\n",
       "      <th>0</th>\n",
       "      <td>Summer Intern, Data Science &amp; Engineering</td>\n",
       "      <td>HSBC Bank Canada</td>\n",
       "      <td>This could be building and changing predictive...</td>\n",
       "    </tr>\n",
       "    <tr>\n",
       "      <th>1</th>\n",
       "      <td>Student Intern</td>\n",
       "      <td>Skyworks</td>\n",
       "      <td>Has strong data analysis skill. Support PEs wi...</td>\n",
       "    </tr>\n",
       "    <tr>\n",
       "      <th>2</th>\n",
       "      <td>Data Scientist Intern</td>\n",
       "      <td>Geotab</td>\n",
       "      <td>As a Data Scientist Intern, you will work alon...</td>\n",
       "    </tr>\n",
       "    <tr>\n",
       "      <th>3</th>\n",
       "      <td>Data Engineer, Omnia AI - Co-op/Intern Winter ...</td>\n",
       "      <td>Deloitte</td>\n",
       "      <td>Fascinated with data structures, data models a...</td>\n",
       "    </tr>\n",
       "    <tr>\n",
       "      <th>4</th>\n",
       "      <td>Data Science Intern - Winter 2020 (Toronto)</td>\n",
       "      <td>Intact</td>\n",
       "      <td>We are currently looking for interns for our D...</td>\n",
       "    </tr>\n",
       "  </tbody>\n",
       "</table>\n",
       "</div>"
      ],
      "text/plain": [
       "                                           job_title      company_name  \\\n",
       "0          Summer Intern, Data Science & Engineering  HSBC Bank Canada   \n",
       "1                                     Student Intern          Skyworks   \n",
       "2                              Data Scientist Intern            Geotab   \n",
       "3  Data Engineer, Omnia AI - Co-op/Intern Winter ...          Deloitte   \n",
       "4        Data Science Intern - Winter 2020 (Toronto)            Intact   \n",
       "\n",
       "                                             summary  \n",
       "0  This could be building and changing predictive...  \n",
       "1  Has strong data analysis skill. Support PEs wi...  \n",
       "2  As a Data Scientist Intern, you will work alon...  \n",
       "3  Fascinated with data structures, data models a...  \n",
       "4  We are currently looking for interns for our D...  "
      ]
     },
     "execution_count": 91,
     "metadata": {},
     "output_type": "execute_result"
    }
   ],
   "source": [
    "df.head()"
   ]
  },
  {
   "cell_type": "code",
   "execution_count": 11,
   "metadata": {},
   "outputs": [],
   "source": [
    "# summary text give insight to what qualifications are needed for what job?\n",
    "# qualifications different between companies even if job title similar?\n",
    "# company-specific preference of qualifications?"
   ]
  },
  {
   "cell_type": "code",
   "execution_count": 5,
   "metadata": {},
   "outputs": [],
   "source": [
    "import nltk\n",
    "#nltk.download()"
   ]
  },
  {
   "cell_type": "code",
   "execution_count": 13,
   "metadata": {},
   "outputs": [],
   "source": [
    "sentence = df['summary'][0]"
   ]
  },
  {
   "cell_type": "code",
   "execution_count": 38,
   "metadata": {},
   "outputs": [],
   "source": [
    "# test\n",
    "tokens = nltk.word_tokenize(sentence)"
   ]
  },
  {
   "cell_type": "code",
   "execution_count": null,
   "metadata": {},
   "outputs": [],
   "source": [
    "# https://www.digitalocean.com/community/tutorials/how-to-work-with-language-data-in-python-3-using-the-natural-language-toolkit-nltk\n",
    "# https://blog.algorithmia.com/introduction-natural-language-processing-nlp\n",
    "# https://www.kaggle.com/itratrahman/nlp-tutorial-using-python"
   ]
  },
  {
   "cell_type": "code",
   "execution_count": 6,
   "metadata": {},
   "outputs": [],
   "source": [
    "from sklearn import preprocessing\n",
    "from sklearn.feature_extraction.text import CountVectorizer, TfidfVectorizer\n",
    "from sklearn.model_selection import train_test_split, KFold\n",
    "from nltk.corpus import stopwords\n",
    "from nltk.stem.snowball import SnowballStemmer\n",
    "from matplotlib import pyplot as plt\n",
    "# import seaborn as sns\n",
    "%matplotlib inline\n",
    "%config InlineBackend.figure_format = 'retina'"
   ]
  },
  {
   "cell_type": "code",
   "execution_count": 33,
   "metadata": {},
   "outputs": [],
   "source": [
    "# https://stackoverflow.com/questions/29523254/python-remove-stop-words-from-pandas-dataframe\n",
    "# compare nltk v sklearn stopwords\n",
    "# Import stopwords with nltk.\n",
    "\n",
    "# from nltk.corpus import stopwords\n",
    "# stop = stopwords.words('english') "
   ]
  },
  {
   "cell_type": "code",
   "execution_count": 28,
   "metadata": {},
   "outputs": [
    {
     "name": "stdout",
     "output_type": "stream",
     "text": [
      "Number of stopwords:  179\n"
     ]
    }
   ],
   "source": [
    "# np.array(stop)\n",
    "# print(\"Number of stopwords: \", len(stop))"
   ]
  },
  {
   "cell_type": "code",
   "execution_count": 132,
   "metadata": {},
   "outputs": [],
   "source": [
    "from sklearn.feature_extraction import text\n",
    "stop = text.ENGLISH_STOP_WORDS"
   ]
  },
  {
   "cell_type": "code",
   "execution_count": 107,
   "metadata": {},
   "outputs": [
    {
     "name": "stdout",
     "output_type": "stream",
     "text": [
      "Number of stopwords:  318\n"
     ]
    }
   ],
   "source": [
    "np.array(stop)\n",
    "print(\"Number of stopwords: \", len(stop))\n",
    "\n",
    "# i like this one better"
   ]
  },
  {
   "cell_type": "code",
   "execution_count": 121,
   "metadata": {},
   "outputs": [],
   "source": [
    "# https://pythonhealthcare.org/2018/12/14/101-pre-processing-data-tokenization-stemming-and-removal-of-stop-words/\n",
    "# tokenization, stemming, and removal of stop words\n",
    "# i don't think i'm going to do sentiment analysis... but it's interesting\n",
    "# convert to lower case\n",
    "\n",
    "df['job_title'] = df['job_title'].str.lower()\n",
    "df['company_name'] = df['company_name'].str.lower()\n",
    "df['summary'] = df['summary'].str.lower()"
   ]
  },
  {
   "cell_type": "code",
   "execution_count": 16,
   "metadata": {},
   "outputs": [
    {
     "data": {
      "text/html": [
       "<div>\n",
       "<style scoped>\n",
       "    .dataframe tbody tr th:only-of-type {\n",
       "        vertical-align: middle;\n",
       "    }\n",
       "\n",
       "    .dataframe tbody tr th {\n",
       "        vertical-align: top;\n",
       "    }\n",
       "\n",
       "    .dataframe thead th {\n",
       "        text-align: right;\n",
       "    }\n",
       "</style>\n",
       "<table border=\"1\" class=\"dataframe\">\n",
       "  <thead>\n",
       "    <tr style=\"text-align: right;\">\n",
       "      <th></th>\n",
       "      <th>job_title</th>\n",
       "      <th>company_name</th>\n",
       "      <th>summary</th>\n",
       "    </tr>\n",
       "  </thead>\n",
       "  <tbody>\n",
       "    <tr>\n",
       "      <th>0</th>\n",
       "      <td>summer intern, data science &amp; engineering</td>\n",
       "      <td>hsbc bank canada</td>\n",
       "      <td>this could be building and changing predictive...</td>\n",
       "    </tr>\n",
       "    <tr>\n",
       "      <th>1</th>\n",
       "      <td>student intern</td>\n",
       "      <td>skyworks</td>\n",
       "      <td>has strong data analysis skill. support pes wi...</td>\n",
       "    </tr>\n",
       "    <tr>\n",
       "      <th>2</th>\n",
       "      <td>data scientist intern</td>\n",
       "      <td>geotab</td>\n",
       "      <td>as a data scientist intern, you will work alon...</td>\n",
       "    </tr>\n",
       "    <tr>\n",
       "      <th>3</th>\n",
       "      <td>data engineer, omnia ai - co-op/intern winter ...</td>\n",
       "      <td>deloitte</td>\n",
       "      <td>fascinated with data structures, data models a...</td>\n",
       "    </tr>\n",
       "    <tr>\n",
       "      <th>4</th>\n",
       "      <td>data science intern - winter 2020 (toronto)</td>\n",
       "      <td>intact</td>\n",
       "      <td>we are currently looking for interns for our d...</td>\n",
       "    </tr>\n",
       "  </tbody>\n",
       "</table>\n",
       "</div>"
      ],
      "text/plain": [
       "                                           job_title      company_name  \\\n",
       "0          summer intern, data science & engineering  hsbc bank canada   \n",
       "1                                     student intern          skyworks   \n",
       "2                              data scientist intern            geotab   \n",
       "3  data engineer, omnia ai - co-op/intern winter ...          deloitte   \n",
       "4        data science intern - winter 2020 (toronto)            intact   \n",
       "\n",
       "                                             summary  \n",
       "0  this could be building and changing predictive...  \n",
       "1  has strong data analysis skill. support pes wi...  \n",
       "2  as a data scientist intern, you will work alon...  \n",
       "3  fascinated with data structures, data models a...  \n",
       "4  we are currently looking for interns for our d...  "
      ]
     },
     "execution_count": 16,
     "metadata": {},
     "output_type": "execute_result"
    }
   ],
   "source": [
    "df.head()"
   ]
  },
  {
   "cell_type": "code",
   "execution_count": 113,
   "metadata": {},
   "outputs": [
    {
     "name": "stdout",
     "output_type": "stream",
     "text": [
      "0              summer intern, data science & engineering\n",
      "1                                         student intern\n",
      "2                                  data scientist intern\n",
      "3      data engineer, omnia ai - co-op/intern winter ...\n",
      "4            data science intern - winter 2020 (toronto)\n",
      "5                 data insight specialist (co-op/intern)\n",
      "6                                    data analyst intern\n",
      "7                                   intern, data science\n",
      "8             instructional writer - data science intern\n",
      "9                     co op/intern: photonics networking\n",
      "10                           applied research lab intern\n",
      "11           business support intern, data and analytics\n",
      "12     analyst, strategic & operational risk - winter...\n",
      "13     associate consultant intern, data & services (...\n",
      "14                 student intern, customer data analyst\n",
      "15           research intern, 2020 - toronto or waterloo\n",
      "16          2020 data scientist internship opportunities\n",
      "17                          co op/intern: data analytics\n",
      "18                 analytics & data science co-op/intern\n",
      "19                        brand management summer intern\n",
      "20                                     accountant intern\n",
      "21             summer intern, data science & engineering\n",
      "22                                        student intern\n",
      "23     intern opportunities for students: user experi...\n",
      "24                        web/front end developer intern\n",
      "25     associate managing consultant intern, data & s...\n",
      "26                               python developer intern\n",
      "27                                genuine analyst intern\n",
      "28                            front-end developer intern\n",
      "29            software developer intern, bs, summer 2020\n",
      "                             ...                        \n",
      "946            developer – enterprise architecture co-op\n",
      "947                                   software developer\n",
      "948    enterprise enabling technology solutions devel...\n",
      "949                    embedded test software engineer 2\n",
      "950    intern - analyst, total fund management (4 or ...\n",
      "951    automation monitoring and support analyst, inn...\n",
      "952    software testing intern – stagiaire en test lo...\n",
      "953                       it intern system administrator\n",
      "954    software developer intern - développeur logici...\n",
      "955                   intern analyst, digital innovation\n",
      "956       system administrator (full-time unpaid intern)\n",
      "957                     software tester (5620 sam) co-op\n",
      "958                  co op/intern: blue planet analytics\n",
      "959         co op/intern: blue planet network management\n",
      "960    software test intern - montreal r&d center - h...\n",
      "961           software test intern - montreal r&d center\n",
      "962                         co op/intern: data analytics\n",
      "963    software test intern - montreal r&d center - h...\n",
      "964          co op/intern:photonic systems test engineer\n",
      "965           intern - ecommerce java software developer\n",
      "966                         co op/intern: data analytics\n",
      "967    user interface (ui) design intern – stagiaire ...\n",
      "968                     software tester (5620 sam) co-op\n",
      "969                         co op/intern: data analytics\n",
      "970                            tester/qa co-op (8 month)\n",
      "971    user interface (ui) design intern – stagiaire ...\n",
      "972                     software tester (5620 sam) co-op\n",
      "973                         co op/intern: data analytics\n",
      "974                            tester/qa co-op (8 month)\n",
      "975           intern - ecommerce java software developer\n",
      "Name: job_title, Length: 976, dtype: object\n"
     ]
    }
   ],
   "source": [
    "print(df['job_title'])"
   ]
  },
  {
   "cell_type": "code",
   "execution_count": 65,
   "metadata": {},
   "outputs": [],
   "source": [
    "import string"
   ]
  },
  {
   "cell_type": "code",
   "execution_count": 126,
   "metadata": {},
   "outputs": [],
   "source": [
    "def identify_tokens(row):\n",
    "    #data_in_row = row['job_title']\n",
    "    #tokens = nltk.word_tokenize(data_in_row) # is a list of tokens\n",
    "    tokens = nltk.word_tokenize(row)\n",
    "    # taken only words (not punctuation)\n",
    "    no_punc = []\n",
    "    for i in range(len(tokens)):\n",
    "        if \"/\" in tokens[i]:\n",
    "            # https://stackoverflow.com/questions/9797357/dividing-a-string-at-various-punctuation-marks-using-split\n",
    "            temp = tokens[i].replace('/',' ').replace('-',' ').split() # this split up web/front, coop/-intern; remove \"/\",\"-\" keep both wrds\n",
    "            for a in temp:\n",
    "                no_punc.append(a)\n",
    "        if tokens[i].isalpha() and tokens[i] != \"r\" and tokens[i] != \"d\": # capture text that isn't 'r' or '&' or 'd'\n",
    "            no_punc.append(tokens[i])\n",
    "        elif tokens[i].isalpha() and tokens[i] == \"r\": # idk what other words could become just an r\n",
    "            if tokens[i+1] == \"&\" and tokens[i+2] == \"d\": # r & d\n",
    "                no_punc.append(\"r&d\")\n",
    "                i += 2\n",
    "            else:\n",
    "                continue\n",
    "    \n",
    "    return no_punc"
   ]
  },
  {
   "cell_type": "code",
   "execution_count": 136,
   "metadata": {},
   "outputs": [],
   "source": [
    "a = identify_tokens(df['job_title'][957])"
   ]
  },
  {
   "cell_type": "code",
   "execution_count": 141,
   "metadata": {},
   "outputs": [
    {
     "data": {
      "text/plain": [
       "['software', 'tester', 'sam']"
      ]
     },
     "execution_count": 141,
     "metadata": {},
     "output_type": "execute_result"
    }
   ],
   "source": [
    "a"
   ]
  },
  {
   "cell_type": "code",
   "execution_count": 139,
   "metadata": {},
   "outputs": [],
   "source": [
    "b = identify_tokens(df['summary'][957])"
   ]
  },
  {
   "cell_type": "code",
   "execution_count": 140,
   "metadata": {},
   "outputs": [
    {
     "data": {
      "text/plain": [
       "['software',\n",
       " 'tester',\n",
       " 'sam',\n",
       " 'summer',\n",
       " 'co',\n",
       " 'op',\n",
       " 'the',\n",
       " 'network',\n",
       " 'management',\n",
       " 'business',\n",
       " 'unit',\n",
       " 'in',\n",
       " 'nokia',\n",
       " 'ip',\n",
       " 'division',\n",
       " 'is',\n",
       " 'recruiting',\n",
       " 'highly',\n",
       " 'motivated',\n",
       " 'software',\n",
       " 'testers']"
      ]
     },
     "execution_count": 140,
     "metadata": {},
     "output_type": "execute_result"
    }
   ],
   "source": [
    "b"
   ]
  },
  {
   "cell_type": "code",
   "execution_count": 133,
   "metadata": {},
   "outputs": [],
   "source": [
    "# https://www.kaggle.com/itratrahman/nlp-tutorial-using-python\n",
    "def stopwords(row):\n",
    "    '''a function for removing the stopword\n",
    "    '''\n",
    "    # removing the stop words and lowercasing the selected words\n",
    "    text = [word for word in row if word not in stop]\n",
    "    # joining the list of words with space separator\n",
    "    return text"
   ]
  },
  {
   "cell_type": "code",
   "execution_count": 138,
   "metadata": {},
   "outputs": [
    {
     "data": {
      "text/plain": [
       "['software',\n",
       " 'tester',\n",
       " 'sam',\n",
       " 'summer',\n",
       " 'op',\n",
       " 'network',\n",
       " 'management',\n",
       " 'business',\n",
       " 'unit',\n",
       " 'nokia',\n",
       " 'ip',\n",
       " 'division',\n",
       " 'recruiting',\n",
       " 'highly',\n",
       " 'motivated',\n",
       " 'software',\n",
       " 'testers']"
      ]
     },
     "execution_count": 138,
     "metadata": {},
     "output_type": "execute_result"
    }
   ],
   "source": [
    "stopwords(b)"
   ]
  },
  {
   "cell_type": "code",
   "execution_count": null,
   "metadata": {},
   "outputs": [],
   "source": []
  }
 ],
 "metadata": {
  "kernelspec": {
   "display_name": "Python 3",
   "language": "python",
   "name": "python3"
  },
  "language_info": {
   "codemirror_mode": {
    "name": "ipython",
    "version": 3
   },
   "file_extension": ".py",
   "mimetype": "text/x-python",
   "name": "python",
   "nbconvert_exporter": "python",
   "pygments_lexer": "ipython3",
   "version": "3.6.5"
  }
 },
 "nbformat": 4,
 "nbformat_minor": 2
}
