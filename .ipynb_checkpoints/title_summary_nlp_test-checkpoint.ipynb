{
 "cells": [
  {
   "cell_type": "markdown",
   "metadata": {},
   "source": [
    "### Indeed.ca Job Title Summary Data NLP"
   ]
  },
  {
   "cell_type": "raw",
   "metadata": {},
   "source": [
    "git@github.com:jodiqiao/internship_analysis.git"
   ]
  },
  {
   "cell_type": "code",
   "execution_count": 5,
   "metadata": {},
   "outputs": [],
   "source": [
    "import numpy as np\n",
    "import pandas as pd\n",
    "from sklearn import preprocessing\n",
    "from sklearn.feature_extraction.text import CountVectorizer, TfidfVectorizer\n",
    "from sklearn.model_selection import train_test_split, KFold\n",
    "from nltk.corpus import stopwords\n",
    "from nltk.stem.snowball import SnowballStemmer\n",
    "import matplotlib\n",
    "from matplotlib import pyplot as plt\n",
    "# import seaborn as sns\n",
    "%matplotlib inline\n",
    "%config InlineBackend.figure_format = 'retina'"
   ]
  },
  {
   "cell_type": "code",
   "execution_count": 6,
   "metadata": {},
   "outputs": [],
   "source": [
    "df = pd.read_csv(\"sept_final_preprocessed.csv\", usecols = ['job_title','company_name','summary'])"
   ]
  },
  {
   "cell_type": "code",
   "execution_count": 7,
   "metadata": {},
   "outputs": [
    {
     "data": {
      "text/html": [
       "<div>\n",
       "<style scoped>\n",
       "    .dataframe tbody tr th:only-of-type {\n",
       "        vertical-align: middle;\n",
       "    }\n",
       "\n",
       "    .dataframe tbody tr th {\n",
       "        vertical-align: top;\n",
       "    }\n",
       "\n",
       "    .dataframe thead th {\n",
       "        text-align: right;\n",
       "    }\n",
       "</style>\n",
       "<table border=\"1\" class=\"dataframe\">\n",
       "  <thead>\n",
       "    <tr style=\"text-align: right;\">\n",
       "      <th></th>\n",
       "      <th>job_title</th>\n",
       "      <th>company_name</th>\n",
       "      <th>summary</th>\n",
       "    </tr>\n",
       "  </thead>\n",
       "  <tbody>\n",
       "    <tr>\n",
       "      <th>0</th>\n",
       "      <td>summer intern data science engineering</td>\n",
       "      <td>hsbc bank canada</td>\n",
       "      <td>building changing predictive analytical soluti...</td>\n",
       "    </tr>\n",
       "    <tr>\n",
       "      <th>1</th>\n",
       "      <td>student intern</td>\n",
       "      <td>skyworks</td>\n",
       "      <td>strong data analysis skill support pes custome...</td>\n",
       "    </tr>\n",
       "    <tr>\n",
       "      <th>2</th>\n",
       "      <td>data scientist intern</td>\n",
       "      <td>geotab</td>\n",
       "      <td>data scientist intern work alongside team fell...</td>\n",
       "    </tr>\n",
       "    <tr>\n",
       "      <th>3</th>\n",
       "      <td>data engineer omnia ai co op intern winter mul...</td>\n",
       "      <td>deloitte</td>\n",
       "      <td>fascinated data structures data models data pa...</td>\n",
       "    </tr>\n",
       "    <tr>\n",
       "      <th>4</th>\n",
       "      <td>data science intern winter toronto</td>\n",
       "      <td>intact</td>\n",
       "      <td>currently looking interns data lab r&amp;d departm...</td>\n",
       "    </tr>\n",
       "  </tbody>\n",
       "</table>\n",
       "</div>"
      ],
      "text/plain": [
       "                                           job_title      company_name  \\\n",
       "0             summer intern data science engineering  hsbc bank canada   \n",
       "1                                     student intern          skyworks   \n",
       "2                              data scientist intern            geotab   \n",
       "3  data engineer omnia ai co op intern winter mul...          deloitte   \n",
       "4                 data science intern winter toronto            intact   \n",
       "\n",
       "                                             summary  \n",
       "0  building changing predictive analytical soluti...  \n",
       "1  strong data analysis skill support pes custome...  \n",
       "2  data scientist intern work alongside team fell...  \n",
       "3  fascinated data structures data models data pa...  \n",
       "4  currently looking interns data lab r&d departm...  "
      ]
     },
     "execution_count": 7,
     "metadata": {},
     "output_type": "execute_result"
    }
   ],
   "source": [
    "df.head()"
   ]
  },
  {
   "cell_type": "code",
   "execution_count": 5,
   "metadata": {},
   "outputs": [],
   "source": [
    "# https://www.kaggle.com/itratrahman/nlp-tutorial-using-python analysis ideas\n",
    "# top words in job title\n",
    "# top words in summary by job title top words?\n",
    "# top words in summary by job title top words by company?\n",
    "# TF-IDF extraction? \n",
    "# ... training models etc depends on shape of top words data\n",
    "\n",
    "# might have to do iterative process to check proportion of \\n\n",
    "# summary top words per job title top words per company?"
   ]
  },
  {
   "cell_type": "markdown",
   "metadata": {},
   "source": [
    "#### Top Words Analysis"
   ]
  },
  {
   "cell_type": "code",
   "execution_count": 8,
   "metadata": {},
   "outputs": [],
   "source": [
    "# create the object of tfid vectorizer\n",
    "tfid_vectorizer = TfidfVectorizer()\n",
    "# fit the vectorizer using the text data\n",
    "tfid_vectorizer.fit(df['job_title'])\n",
    "# collect the vocabulary items used in the vectorizer\n",
    "dictionary = tfid_vectorizer.vocabulary_.items()  "
   ]
  },
  {
   "cell_type": "code",
   "execution_count": 9,
   "metadata": {},
   "outputs": [],
   "source": [
    "# lists to store the vocab and counts\n",
    "vocab = []\n",
    "count = []\n",
    "# iterate through each vocab and count append the value to designated lists\n",
    "for key, value in dictionary:\n",
    "    vocab.append(key)\n",
    "    count.append(value)\n",
    "# store the count in panadas dataframe with vocab as index\n",
    "vocab_bef_stem = pd.Series(count, index=vocab)\n",
    "# sort the dataframe\n",
    "vocab_bef_stem = vocab_bef_stem.sort_values(ascending=False)"
   ]
  },
  {
   "cell_type": "code",
   "execution_count": 10,
   "metadata": {},
   "outputs": [],
   "source": [
    "top_vacab = vocab_bef_stem.head(500)\n",
    "# top_vacab.plot(kind = 'barh', figsize=(5,100))"
   ]
  },
  {
   "cell_type": "code",
   "execution_count": 24,
   "metadata": {},
   "outputs": [],
   "source": [
    "# potentially usable (high volume)\n",
    "workable_title_vocab = [\"web\",\n",
    "                        \"ux\",\n",
    "                        \"undergraduate\",\n",
    "                        \"ui\",\n",
    "                        \"testing\",\n",
    "                        \"tester\",\n",
    "                        \"test\",\n",
    "                        \"technology\",\n",
    "                        \"technologies\",\n",
    "                        \"stack\",\n",
    "                        \"software\",\n",
    "                        \"scientist\",\n",
    "                        \"researcher\",\n",
    "                        \"research\",\n",
    "                        \"quantitative\",\n",
    "                        \"quality\",\n",
    "                        \"qa\",\n",
    "                        \"python\",\n",
    "                        \"prototyper\",\n",
    "                        \"programming\",\n",
    "                        \"programmer\",\n",
    "                        \"program\",\n",
    "                        \"predictive\",\n",
    "                        \"modelling\",\n",
    "                        \"machine\",\n",
    "                        \"learning\",\n",
    "                        \"java\",\n",
    "                        \"dev\",\n",
    "                        \"developer\",\n",
    "                        \"deep\",\n",
    "                        \"database\",\n",
    "                        \"data\",\n",
    "                        \"analytics\",\n",
    "                        \"analyst\",\n",
    "                        \"analysis\"\n",
    "                       ]"
   ]
  },
  {
   "cell_type": "code",
   "execution_count": 25,
   "metadata": {},
   "outputs": [],
   "source": [
    "import re\n",
    "searchfor = workable_title_vocab\n",
    "s = df.job_title.str.contains('|'.join(searchfor))\n",
    "df2 = df[s]"
   ]
  },
  {
   "cell_type": "code",
   "execution_count": 28,
   "metadata": {},
   "outputs": [
    {
     "data": {
      "text/plain": [
       "616"
      ]
     },
     "execution_count": 28,
     "metadata": {},
     "output_type": "execute_result"
    }
   ],
   "source": [
    "len(df)\n",
    "len(df2)"
   ]
  },
  {
   "cell_type": "code",
   "execution_count": 31,
   "metadata": {},
   "outputs": [],
   "source": [
    "# https://towardsdatascience.com/how-to-filter-rows-of-a-pandas-dataframe-by-column-value-51996ea621f8\n",
    "# filtered for job titles containing tokens in list\n",
    "\n",
    "df2 = df2.drop_duplicates()"
   ]
  },
  {
   "cell_type": "code",
   "execution_count": 33,
   "metadata": {},
   "outputs": [
    {
     "data": {
      "text/plain": [
       "605"
      ]
     },
     "execution_count": 33,
     "metadata": {},
     "output_type": "execute_result"
    }
   ],
   "source": [
    "len(df2) # somehow have dupes here again? .. ok"
   ]
  },
  {
   "cell_type": "code",
   "execution_count": 34,
   "metadata": {},
   "outputs": [
    {
     "data": {
      "text/html": [
       "<div>\n",
       "<style scoped>\n",
       "    .dataframe tbody tr th:only-of-type {\n",
       "        vertical-align: middle;\n",
       "    }\n",
       "\n",
       "    .dataframe tbody tr th {\n",
       "        vertical-align: top;\n",
       "    }\n",
       "\n",
       "    .dataframe thead th {\n",
       "        text-align: right;\n",
       "    }\n",
       "</style>\n",
       "<table border=\"1\" class=\"dataframe\">\n",
       "  <thead>\n",
       "    <tr style=\"text-align: right;\">\n",
       "      <th></th>\n",
       "      <th>job_title</th>\n",
       "      <th>company_name</th>\n",
       "      <th>summary</th>\n",
       "    </tr>\n",
       "  </thead>\n",
       "  <tbody>\n",
       "    <tr>\n",
       "      <th>0</th>\n",
       "      <td>summer intern data science engineering</td>\n",
       "      <td>hsbc bank canada</td>\n",
       "      <td>building changing predictive analytical soluti...</td>\n",
       "    </tr>\n",
       "    <tr>\n",
       "      <th>1</th>\n",
       "      <td>data scientist intern</td>\n",
       "      <td>geotab</td>\n",
       "      <td>data scientist intern work alongside team fell...</td>\n",
       "    </tr>\n",
       "    <tr>\n",
       "      <th>2</th>\n",
       "      <td>data engineer omnia ai co op intern winter mul...</td>\n",
       "      <td>deloitte</td>\n",
       "      <td>fascinated data structures data models data pa...</td>\n",
       "    </tr>\n",
       "    <tr>\n",
       "      <th>3</th>\n",
       "      <td>data science intern winter toronto</td>\n",
       "      <td>intact</td>\n",
       "      <td>currently looking interns data lab r&amp;d departm...</td>\n",
       "    </tr>\n",
       "    <tr>\n",
       "      <th>4</th>\n",
       "      <td>data insight specialist co op intern</td>\n",
       "      <td>general motors</td>\n",
       "      <td>data insight specialist assist warranty field ...</td>\n",
       "    </tr>\n",
       "  </tbody>\n",
       "</table>\n",
       "</div>"
      ],
      "text/plain": [
       "                                           job_title      company_name  \\\n",
       "0             summer intern data science engineering  hsbc bank canada   \n",
       "1                              data scientist intern            geotab   \n",
       "2  data engineer omnia ai co op intern winter mul...          deloitte   \n",
       "3                 data science intern winter toronto            intact   \n",
       "4               data insight specialist co op intern    general motors   \n",
       "\n",
       "                                             summary  \n",
       "0  building changing predictive analytical soluti...  \n",
       "1  data scientist intern work alongside team fell...  \n",
       "2  fascinated data structures data models data pa...  \n",
       "3  currently looking interns data lab r&d departm...  \n",
       "4  data insight specialist assist warranty field ...  "
      ]
     },
     "execution_count": 34,
     "metadata": {},
     "output_type": "execute_result"
    }
   ],
   "source": [
    "df2 = df2.reset_index(drop=True)\n",
    "df2.head()"
   ]
  },
  {
   "cell_type": "code",
   "execution_count": null,
   "metadata": {},
   "outputs": [],
   "source": []
  }
 ],
 "metadata": {
  "kernelspec": {
   "display_name": "Python 3",
   "language": "python",
   "name": "python3"
  },
  "language_info": {
   "codemirror_mode": {
    "name": "ipython",
    "version": 3
   },
   "file_extension": ".py",
   "mimetype": "text/x-python",
   "name": "python",
   "nbconvert_exporter": "python",
   "pygments_lexer": "ipython3",
   "version": "3.6.5"
  }
 },
 "nbformat": 4,
 "nbformat_minor": 2
}
