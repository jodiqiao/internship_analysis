{
 "cells": [
  {
   "cell_type": "markdown",
   "metadata": {},
   "source": [
    "### Indeed.ca Internship Data Preliminary Analysis"
   ]
  },
  {
   "cell_type": "markdown",
   "metadata": {},
   "source": [
    "#### Python Pandas, Matplotlib & Others"
   ]
  },
  {
   "cell_type": "code",
   "execution_count": 4,
   "metadata": {},
   "outputs": [],
   "source": [
    "# Visualize job titles, company, location\n",
    "# Summary NLP?"
   ]
  },
  {
   "cell_type": "code",
   "execution_count": 13,
   "metadata": {},
   "outputs": [],
   "source": [
    "import pandas as pd\n",
    "import numpy as np\n",
    "import matplotlib.pyplot as plt #includes seaborn and wordcloud\n",
    "from PIL import Image #python imaging library\n",
    "from os import path\n",
    "from wordcloud import WordCloud, STOPWORDS, ImageColorGenerator"
   ]
  },
  {
   "cell_type": "code",
   "execution_count": 16,
   "metadata": {},
   "outputs": [],
   "source": [
    "df = pd.read_csv(\"sept_final_scrape.csv\",usecols = ['job_title','company_name','location','summary','salary'])"
   ]
  },
  {
   "cell_type": "code",
   "execution_count": 23,
   "metadata": {},
   "outputs": [
    {
     "data": {
      "text/html": [
       "<div>\n",
       "<style scoped>\n",
       "    .dataframe tbody tr th:only-of-type {\n",
       "        vertical-align: middle;\n",
       "    }\n",
       "\n",
       "    .dataframe tbody tr th {\n",
       "        vertical-align: top;\n",
       "    }\n",
       "\n",
       "    .dataframe thead th {\n",
       "        text-align: right;\n",
       "    }\n",
       "</style>\n",
       "<table border=\"1\" class=\"dataframe\">\n",
       "  <thead>\n",
       "    <tr style=\"text-align: right;\">\n",
       "      <th></th>\n",
       "      <th>job_title</th>\n",
       "      <th>company_name</th>\n",
       "      <th>location</th>\n",
       "      <th>summary</th>\n",
       "      <th>salary</th>\n",
       "    </tr>\n",
       "  </thead>\n",
       "  <tbody>\n",
       "    <tr>\n",
       "      <th>0</th>\n",
       "      <td>Summer Intern, Data Science &amp; Engineering</td>\n",
       "      <td>HSBC Bank Canada</td>\n",
       "      <td>Toronto, ON</td>\n",
       "      <td>This could be building and changing predictive...</td>\n",
       "      <td>Nothing_found</td>\n",
       "    </tr>\n",
       "    <tr>\n",
       "      <th>1</th>\n",
       "      <td>Student Intern</td>\n",
       "      <td>Skyworks</td>\n",
       "      <td>Ottawa, ON</td>\n",
       "      <td>Has strong data analysis skill. Support PEs wi...</td>\n",
       "      <td>Nothing_found</td>\n",
       "    </tr>\n",
       "    <tr>\n",
       "      <th>2</th>\n",
       "      <td>Data Scientist Intern</td>\n",
       "      <td>Geotab</td>\n",
       "      <td>Oakville, ON</td>\n",
       "      <td>As a Data Scientist Intern, you will work alon...</td>\n",
       "      <td>Nothing_found</td>\n",
       "    </tr>\n",
       "    <tr>\n",
       "      <th>3</th>\n",
       "      <td>Data Engineer, Omnia AI - Co-op/Intern Winter ...</td>\n",
       "      <td>Deloitte</td>\n",
       "      <td>Toronto, ON</td>\n",
       "      <td>Fascinated with data structures, data models a...</td>\n",
       "      <td>Nothing_found</td>\n",
       "    </tr>\n",
       "    <tr>\n",
       "      <th>4</th>\n",
       "      <td>Data Science Intern - Winter 2020 (Toronto)</td>\n",
       "      <td>Intact</td>\n",
       "      <td>Toronto, ON</td>\n",
       "      <td>We are currently looking for interns for our D...</td>\n",
       "      <td>Nothing_found</td>\n",
       "    </tr>\n",
       "  </tbody>\n",
       "</table>\n",
       "</div>"
      ],
      "text/plain": [
       "                                           job_title      company_name  \\\n",
       "0          Summer Intern, Data Science & Engineering  HSBC Bank Canada   \n",
       "1                                     Student Intern          Skyworks   \n",
       "2                              Data Scientist Intern            Geotab   \n",
       "3  Data Engineer, Omnia AI - Co-op/Intern Winter ...          Deloitte   \n",
       "4        Data Science Intern - Winter 2020 (Toronto)            Intact   \n",
       "\n",
       "       location                                            summary  \\\n",
       "0   Toronto, ON  This could be building and changing predictive...   \n",
       "1    Ottawa, ON  Has strong data analysis skill. Support PEs wi...   \n",
       "2  Oakville, ON  As a Data Scientist Intern, you will work alon...   \n",
       "3   Toronto, ON  Fascinated with data structures, data models a...   \n",
       "4   Toronto, ON  We are currently looking for interns for our D...   \n",
       "\n",
       "          salary  \n",
       "0  Nothing_found  \n",
       "1  Nothing_found  \n",
       "2  Nothing_found  \n",
       "3  Nothing_found  \n",
       "4  Nothing_found  "
      ]
     },
     "execution_count": 23,
     "metadata": {},
     "output_type": "execute_result"
    }
   ],
   "source": [
    "df.head()"
   ]
  },
  {
   "cell_type": "code",
   "execution_count": 14,
   "metadata": {},
   "outputs": [],
   "source": [
    "# make a wordcloud for job_title?\n",
    "# https://www.datacamp.com/community/tutorials/wordcloud-python"
   ]
  },
  {
   "cell_type": "code",
   "execution_count": 37,
   "metadata": {},
   "outputs": [
    {
     "name": "stdout",
     "output_type": "stream",
     "text": [
      "There are 976 observations and 5 features in this dataset. \n",
      "\n",
      "There are 252 companies in this dataset such as HSBC Bank Canada, Skyworks, Geotab, Deloitte, Intact... \n",
      "\n",
      "There are 74 locations hiring interns Toronto, ON, Ottawa, ON, Oakville, ON, Oshawa, ON, Winnipeg, MB... \n",
      "\n",
      "There are 24 listings with salary info, while for most nothing is found, some sample salary listings are $40,000 a year, $39,027 a year, $18 an hour, $2,700 a month... \n",
      "\n"
     ]
    }
   ],
   "source": [
    "# basic tallies\n",
    "print(\"There are {} observations and {} features in this dataset. \\n\".format(df.shape[0],df.shape[1]))\n",
    "print(\"There are {} companies in this dataset such as {}... \\n\".format(len(df.company_name.unique()),\", \".join(df.company_name.unique()[0:5])))\n",
    "print(\"There are {} locations hiring interns {}... \\n\".format(len(df.location.unique()),\", \".join(df.location.unique()[0:5])))\n",
    "print(\"There are {} listings with salary info, while for most nothing is found, some sample salary listings are {}... \\n\".format(len(df.salary.unique())-1,\", \".join(df.salary.unique()[1:5])))"
   ]
  },
  {
   "cell_type": "code",
   "execution_count": 70,
   "metadata": {},
   "outputs": [
    {
     "data": {
      "text/html": [
       "<div>\n",
       "<style scoped>\n",
       "    .dataframe tbody tr th:only-of-type {\n",
       "        vertical-align: middle;\n",
       "    }\n",
       "\n",
       "    .dataframe tbody tr th {\n",
       "        vertical-align: top;\n",
       "    }\n",
       "\n",
       "    .dataframe thead th {\n",
       "        text-align: right;\n",
       "    }\n",
       "</style>\n",
       "<table border=\"1\" class=\"dataframe\">\n",
       "  <thead>\n",
       "    <tr style=\"text-align: right;\">\n",
       "      <th></th>\n",
       "      <th>count</th>\n",
       "    </tr>\n",
       "    <tr>\n",
       "      <th>location</th>\n",
       "      <th></th>\n",
       "    </tr>\n",
       "  </thead>\n",
       "  <tbody>\n",
       "    <tr>\n",
       "      <th>Red Deer, AB</th>\n",
       "      <td>5</td>\n",
       "    </tr>\n",
       "    <tr>\n",
       "      <th>Fort McMurray, AB</th>\n",
       "      <td>4</td>\n",
       "    </tr>\n",
       "    <tr>\n",
       "      <th>Ontario</th>\n",
       "      <td>2</td>\n",
       "    </tr>\n",
       "    <tr>\n",
       "      <th>Legal, AB</th>\n",
       "      <td>1</td>\n",
       "    </tr>\n",
       "    <tr>\n",
       "      <th>Red Deer County, AB</th>\n",
       "      <td>2</td>\n",
       "    </tr>\n",
       "  </tbody>\n",
       "</table>\n",
       "</div>"
      ],
      "text/plain": [
       "                     count\n",
       "location                  \n",
       "Red Deer, AB             5\n",
       "Fort McMurray, AB        4\n",
       "Ontario                  2\n",
       "Legal, AB                1\n",
       "Red Deer County, AB      2"
      ]
     },
     "execution_count": 70,
     "metadata": {},
     "output_type": "execute_result"
    }
   ],
   "source": [
    "# interested in looking at location stats\n",
    "location = pd.value_counts(df['location'].values, sort=False)\n",
    "location = location.to_frame(name=\"count\")\n",
    "location = location.rename_axis('location')\n",
    "location.head()"
   ]
  },
  {
   "cell_type": "code",
   "execution_count": null,
   "metadata": {},
   "outputs": [],
   "source": [
    "# bar graph not meaningful - obviously more jobs in bigger cities; x-axis ticks too tight; % -> pie or map vis"
   ]
  }
 ],
 "metadata": {
  "kernelspec": {
   "display_name": "Python 3",
   "language": "python",
   "name": "python3"
  },
  "language_info": {
   "codemirror_mode": {
    "name": "ipython",
    "version": 3
   },
   "file_extension": ".py",
   "mimetype": "text/x-python",
   "name": "python",
   "nbconvert_exporter": "python",
   "pygments_lexer": "ipython3",
   "version": "3.6.5"
  }
 },
 "nbformat": 4,
 "nbformat_minor": 2
}
