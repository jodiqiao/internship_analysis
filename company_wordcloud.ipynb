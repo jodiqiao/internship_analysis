{
 "cells": [
  {
   "cell_type": "markdown",
   "metadata": {},
   "source": [
    "### Indeed.ca Internship Company Name Analysis"
   ]
  },
  {
   "cell_type": "raw",
   "metadata": {},
   "source": [
    "#### Git push to git@github.com:jodiqiao/internship_analysis.git"
   ]
  },
  {
   "cell_type": "code",
   "execution_count": 2,
   "metadata": {},
   "outputs": [],
   "source": [
    "import pandas as pd\n",
    "import numpy as np\n",
    "import matplotlib.pyplot as plt #includes seaborn and wordcloud"
   ]
  },
  {
   "cell_type": "code",
   "execution_count": 3,
   "metadata": {},
   "outputs": [],
   "source": [
    "df = pd.read_csv(\"sept_final_scrape.csv\",usecols = ['job_title','company_name','location','summary','salary'])"
   ]
  },
  {
   "cell_type": "code",
   "execution_count": 4,
   "metadata": {},
   "outputs": [
    {
     "data": {
      "text/html": [
       "<div>\n",
       "<style scoped>\n",
       "    .dataframe tbody tr th:only-of-type {\n",
       "        vertical-align: middle;\n",
       "    }\n",
       "\n",
       "    .dataframe tbody tr th {\n",
       "        vertical-align: top;\n",
       "    }\n",
       "\n",
       "    .dataframe thead th {\n",
       "        text-align: right;\n",
       "    }\n",
       "</style>\n",
       "<table border=\"1\" class=\"dataframe\">\n",
       "  <thead>\n",
       "    <tr style=\"text-align: right;\">\n",
       "      <th></th>\n",
       "      <th>job_title</th>\n",
       "      <th>company_name</th>\n",
       "      <th>location</th>\n",
       "      <th>summary</th>\n",
       "      <th>salary</th>\n",
       "    </tr>\n",
       "  </thead>\n",
       "  <tbody>\n",
       "    <tr>\n",
       "      <th>0</th>\n",
       "      <td>Summer Intern, Data Science &amp; Engineering</td>\n",
       "      <td>HSBC Bank Canada</td>\n",
       "      <td>Toronto, ON</td>\n",
       "      <td>This could be building and changing predictive...</td>\n",
       "      <td>Nothing_found</td>\n",
       "    </tr>\n",
       "    <tr>\n",
       "      <th>1</th>\n",
       "      <td>Student Intern</td>\n",
       "      <td>Skyworks</td>\n",
       "      <td>Ottawa, ON</td>\n",
       "      <td>Has strong data analysis skill. Support PEs wi...</td>\n",
       "      <td>Nothing_found</td>\n",
       "    </tr>\n",
       "    <tr>\n",
       "      <th>2</th>\n",
       "      <td>Data Scientist Intern</td>\n",
       "      <td>Geotab</td>\n",
       "      <td>Oakville, ON</td>\n",
       "      <td>As a Data Scientist Intern, you will work alon...</td>\n",
       "      <td>Nothing_found</td>\n",
       "    </tr>\n",
       "    <tr>\n",
       "      <th>3</th>\n",
       "      <td>Data Engineer, Omnia AI - Co-op/Intern Winter ...</td>\n",
       "      <td>Deloitte</td>\n",
       "      <td>Toronto, ON</td>\n",
       "      <td>Fascinated with data structures, data models a...</td>\n",
       "      <td>Nothing_found</td>\n",
       "    </tr>\n",
       "    <tr>\n",
       "      <th>4</th>\n",
       "      <td>Data Science Intern - Winter 2020 (Toronto)</td>\n",
       "      <td>Intact</td>\n",
       "      <td>Toronto, ON</td>\n",
       "      <td>We are currently looking for interns for our D...</td>\n",
       "      <td>Nothing_found</td>\n",
       "    </tr>\n",
       "  </tbody>\n",
       "</table>\n",
       "</div>"
      ],
      "text/plain": [
       "                                           job_title      company_name  \\\n",
       "0          Summer Intern, Data Science & Engineering  HSBC Bank Canada   \n",
       "1                                     Student Intern          Skyworks   \n",
       "2                              Data Scientist Intern            Geotab   \n",
       "3  Data Engineer, Omnia AI - Co-op/Intern Winter ...          Deloitte   \n",
       "4        Data Science Intern - Winter 2020 (Toronto)            Intact   \n",
       "\n",
       "       location                                            summary  \\\n",
       "0   Toronto, ON  This could be building and changing predictive...   \n",
       "1    Ottawa, ON  Has strong data analysis skill. Support PEs wi...   \n",
       "2  Oakville, ON  As a Data Scientist Intern, you will work alon...   \n",
       "3   Toronto, ON  Fascinated with data structures, data models a...   \n",
       "4   Toronto, ON  We are currently looking for interns for our D...   \n",
       "\n",
       "          salary  \n",
       "0  Nothing_found  \n",
       "1  Nothing_found  \n",
       "2  Nothing_found  \n",
       "3  Nothing_found  \n",
       "4  Nothing_found  "
      ]
     },
     "execution_count": 4,
     "metadata": {},
     "output_type": "execute_result"
    }
   ],
   "source": [
    "df.head()"
   ]
  },
  {
   "cell_type": "code",
   "execution_count": 18,
   "metadata": {},
   "outputs": [
    {
     "data": {
      "text/html": [
       "<div>\n",
       "<style scoped>\n",
       "    .dataframe tbody tr th:only-of-type {\n",
       "        vertical-align: middle;\n",
       "    }\n",
       "\n",
       "    .dataframe tbody tr th {\n",
       "        vertical-align: top;\n",
       "    }\n",
       "\n",
       "    .dataframe thead th {\n",
       "        text-align: right;\n",
       "    }\n",
       "</style>\n",
       "<table border=\"1\" class=\"dataframe\">\n",
       "  <thead>\n",
       "    <tr style=\"text-align: right;\">\n",
       "      <th></th>\n",
       "      <th>count</th>\n",
       "      <th>company</th>\n",
       "    </tr>\n",
       "  </thead>\n",
       "  <tbody>\n",
       "    <tr>\n",
       "      <th>0</th>\n",
       "      <td>4</td>\n",
       "      <td>Intact</td>\n",
       "    </tr>\n",
       "    <tr>\n",
       "      <th>1</th>\n",
       "      <td>1</td>\n",
       "      <td>Cogiscan</td>\n",
       "    </tr>\n",
       "    <tr>\n",
       "      <th>2</th>\n",
       "      <td>1</td>\n",
       "      <td>Thunder Bay Regional Health Sciences Foundation</td>\n",
       "    </tr>\n",
       "    <tr>\n",
       "      <th>3</th>\n",
       "      <td>4</td>\n",
       "      <td>HSBC Bank Canada</td>\n",
       "    </tr>\n",
       "    <tr>\n",
       "      <th>4</th>\n",
       "      <td>1</td>\n",
       "      <td>StackAdapt</td>\n",
       "    </tr>\n",
       "  </tbody>\n",
       "</table>\n",
       "</div>"
      ],
      "text/plain": [
       "   count                                          company\n",
       "0      4                                           Intact\n",
       "1      1                                         Cogiscan\n",
       "2      1  Thunder Bay Regional Health Sciences Foundation\n",
       "3      4                                 HSBC Bank Canada\n",
       "4      1                                       StackAdapt"
      ]
     },
     "execution_count": 18,
     "metadata": {},
     "output_type": "execute_result"
    }
   ],
   "source": [
    "comp_series = pd.value_counts(df['company_name'].values, sort=False)\n",
    "comp_df = pd.Series.to_frame(comp_series)\n",
    "comp_df.columns = ['count']\n",
    "comp_df['company'] = list(comp_df.index)\n",
    "comp_df = comp_df.reset_index(drop=True)\n",
    "comp_df.head()"
   ]
  },
  {
   "cell_type": "code",
   "execution_count": 19,
   "metadata": {},
   "outputs": [],
   "source": [
    "# make a wordcloud for job_title?\n",
    "# https://www.datacamp.com/community/tutorials/wordcloud-python"
   ]
  },
  {
   "cell_type": "code",
   "execution_count": null,
   "metadata": {},
   "outputs": [],
   "source": []
  }
 ],
 "metadata": {
  "kernelspec": {
   "display_name": "Python 3",
   "language": "python",
   "name": "python3"
  },
  "language_info": {
   "codemirror_mode": {
    "name": "ipython",
    "version": 3
   },
   "file_extension": ".py",
   "mimetype": "text/x-python",
   "name": "python",
   "nbconvert_exporter": "python",
   "pygments_lexer": "ipython3",
   "version": "3.6.5"
  }
 },
 "nbformat": 4,
 "nbformat_minor": 2
}
