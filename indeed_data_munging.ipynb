{
 "cells": [
  {
   "cell_type": "markdown",
   "metadata": {},
   "source": [
    "### Indeed.ca Data Munging"
   ]
  },
  {
   "cell_type": "code",
   "execution_count": 1,
   "metadata": {},
   "outputs": [],
   "source": [
    "import pandas as pd"
   ]
  },
  {
   "cell_type": "code",
   "execution_count": 4,
   "metadata": {},
   "outputs": [],
   "source": [
    "# https://www.pythonprogramming.in/how-to-read-specific-columns-of-csv-file-using-pandas.html\n",
    "# reading in specific columns by name\n",
    "data = pd.read_csv(\"data+intern.csv\", usecols = ['job_title','company_name','location','summary','salary'])"
   ]
  },
  {
   "cell_type": "code",
   "execution_count": 5,
   "metadata": {},
   "outputs": [
    {
     "data": {
      "text/html": [
       "<div>\n",
       "<style scoped>\n",
       "    .dataframe tbody tr th:only-of-type {\n",
       "        vertical-align: middle;\n",
       "    }\n",
       "\n",
       "    .dataframe tbody tr th {\n",
       "        vertical-align: top;\n",
       "    }\n",
       "\n",
       "    .dataframe thead th {\n",
       "        text-align: right;\n",
       "    }\n",
       "</style>\n",
       "<table border=\"1\" class=\"dataframe\">\n",
       "  <thead>\n",
       "    <tr style=\"text-align: right;\">\n",
       "      <th></th>\n",
       "      <th>job_title</th>\n",
       "      <th>company_name</th>\n",
       "      <th>location</th>\n",
       "      <th>summary</th>\n",
       "      <th>salary</th>\n",
       "    </tr>\n",
       "  </thead>\n",
       "  <tbody>\n",
       "    <tr>\n",
       "      <th>0</th>\n",
       "      <td>Summer Intern, Data Science &amp; Engineering</td>\n",
       "      <td>HSBC Bank Canada</td>\n",
       "      <td>Toronto, ON</td>\n",
       "      <td>This could be building and changing predictive...</td>\n",
       "      <td>Nothing_found</td>\n",
       "    </tr>\n",
       "    <tr>\n",
       "      <th>1</th>\n",
       "      <td>Student Intern</td>\n",
       "      <td>Skyworks</td>\n",
       "      <td>Ottawa, ON</td>\n",
       "      <td>Has strong data analysis skill. Support PEs wi...</td>\n",
       "      <td>Nothing_found</td>\n",
       "    </tr>\n",
       "    <tr>\n",
       "      <th>2</th>\n",
       "      <td>Dog Sitter</td>\n",
       "      <td>Rover</td>\n",
       "      <td>Ottawa, ON</td>\n",
       "      <td>Rover dog sitters come from a variety of backg...</td>\n",
       "      <td>$1,000 a week</td>\n",
       "    </tr>\n",
       "    <tr>\n",
       "      <th>3</th>\n",
       "      <td>Care for Dogs</td>\n",
       "      <td>Rover</td>\n",
       "      <td>Ottawa, ON</td>\n",
       "      <td>Rover dog sitters come from a variety of backg...</td>\n",
       "      <td>$1,000 a week</td>\n",
       "    </tr>\n",
       "    <tr>\n",
       "      <th>4</th>\n",
       "      <td>Dog Boarding</td>\n",
       "      <td>Rover</td>\n",
       "      <td>Ottawa, ON</td>\n",
       "      <td>Rover dog sitters come from a variety of backg...</td>\n",
       "      <td>$1,000 a week</td>\n",
       "    </tr>\n",
       "  </tbody>\n",
       "</table>\n",
       "</div>"
      ],
      "text/plain": [
       "                                   job_title      company_name     location  \\\n",
       "0  Summer Intern, Data Science & Engineering  HSBC Bank Canada  Toronto, ON   \n",
       "1                             Student Intern          Skyworks   Ottawa, ON   \n",
       "2                                 Dog Sitter             Rover   Ottawa, ON   \n",
       "3                              Care for Dogs             Rover   Ottawa, ON   \n",
       "4                               Dog Boarding             Rover   Ottawa, ON   \n",
       "\n",
       "                                             summary         salary  \n",
       "0  This could be building and changing predictive...  Nothing_found  \n",
       "1  Has strong data analysis skill. Support PEs wi...  Nothing_found  \n",
       "2  Rover dog sitters come from a variety of backg...  $1,000 a week  \n",
       "3  Rover dog sitters come from a variety of backg...  $1,000 a week  \n",
       "4  Rover dog sitters come from a variety of backg...  $1,000 a week  "
      ]
     },
     "execution_count": 5,
     "metadata": {},
     "output_type": "execute_result"
    }
   ],
   "source": [
    "data.head()"
   ]
  },
  {
   "cell_type": "code",
   "execution_count": 45,
   "metadata": {},
   "outputs": [
    {
     "data": {
      "text/html": [
       "<div>\n",
       "<style scoped>\n",
       "    .dataframe tbody tr th:only-of-type {\n",
       "        vertical-align: middle;\n",
       "    }\n",
       "\n",
       "    .dataframe tbody tr th {\n",
       "        vertical-align: top;\n",
       "    }\n",
       "\n",
       "    .dataframe thead th {\n",
       "        text-align: right;\n",
       "    }\n",
       "</style>\n",
       "<table border=\"1\" class=\"dataframe\">\n",
       "  <thead>\n",
       "    <tr style=\"text-align: right;\">\n",
       "      <th></th>\n",
       "      <th>job_title</th>\n",
       "      <th>company_name</th>\n",
       "      <th>location</th>\n",
       "      <th>summary</th>\n",
       "      <th>salary</th>\n",
       "    </tr>\n",
       "  </thead>\n",
       "  <tbody>\n",
       "    <tr>\n",
       "      <th>0</th>\n",
       "      <td>Summer Intern, Data Science &amp; Engineering</td>\n",
       "      <td>HSBC Bank Canada</td>\n",
       "      <td>Toronto, ON</td>\n",
       "      <td>This could be building and changing predictive...</td>\n",
       "      <td>Nothing_found</td>\n",
       "    </tr>\n",
       "    <tr>\n",
       "      <th>1</th>\n",
       "      <td>Student Intern</td>\n",
       "      <td>Skyworks</td>\n",
       "      <td>Ottawa, ON</td>\n",
       "      <td>Has strong data analysis skill. Support PEs wi...</td>\n",
       "      <td>Nothing_found</td>\n",
       "    </tr>\n",
       "    <tr>\n",
       "      <th>2</th>\n",
       "      <td>Dog Sitter</td>\n",
       "      <td>Rover</td>\n",
       "      <td>Ottawa, ON</td>\n",
       "      <td>Rover dog sitters come from a variety of backg...</td>\n",
       "      <td>$1,000 a week</td>\n",
       "    </tr>\n",
       "    <tr>\n",
       "      <th>3</th>\n",
       "      <td>Care for Dogs</td>\n",
       "      <td>Rover</td>\n",
       "      <td>Ottawa, ON</td>\n",
       "      <td>Rover dog sitters come from a variety of backg...</td>\n",
       "      <td>$1,000 a week</td>\n",
       "    </tr>\n",
       "    <tr>\n",
       "      <th>4</th>\n",
       "      <td>Dog Boarding</td>\n",
       "      <td>Rover</td>\n",
       "      <td>Ottawa, ON</td>\n",
       "      <td>Rover dog sitters come from a variety of backg...</td>\n",
       "      <td>$1,000 a week</td>\n",
       "    </tr>\n",
       "  </tbody>\n",
       "</table>\n",
       "</div>"
      ],
      "text/plain": [
       "                                   job_title      company_name     location  \\\n",
       "0  Summer Intern, Data Science & Engineering  HSBC Bank Canada  Toronto, ON   \n",
       "1                             Student Intern          Skyworks   Ottawa, ON   \n",
       "2                                 Dog Sitter             Rover   Ottawa, ON   \n",
       "3                              Care for Dogs             Rover   Ottawa, ON   \n",
       "4                               Dog Boarding             Rover   Ottawa, ON   \n",
       "\n",
       "                                             summary         salary  \n",
       "0  This could be building and changing predictive...  Nothing_found  \n",
       "1  Has strong data analysis skill. Support PEs wi...  Nothing_found  \n",
       "2  Rover dog sitters come from a variety of backg...  $1,000 a week  \n",
       "3  Rover dog sitters come from a variety of backg...  $1,000 a week  \n",
       "4  Rover dog sitters come from a variety of backg...  $1,000 a week  "
      ]
     },
     "execution_count": 45,
     "metadata": {},
     "output_type": "execute_result"
    }
   ],
   "source": [
    "# http://www.datasciencemadesimple.com/get-unique-values-rows-dataframe-python-pandas/\n",
    "# duplicated postings in raw scrape, keep only unique\n",
    "df = data.drop_duplicates()\n",
    "df.head()"
   ]
  },
  {
   "cell_type": "code",
   "execution_count": 47,
   "metadata": {},
   "outputs": [
    {
     "data": {
      "text/plain": [
       "job_title       object\n",
       "company_name    object\n",
       "location        object\n",
       "summary         object\n",
       "salary          object\n",
       "dtype: object"
      ]
     },
     "execution_count": 47,
     "metadata": {},
     "output_type": "execute_result"
    }
   ],
   "source": [
    "df.dtypes"
   ]
  },
  {
   "cell_type": "code",
   "execution_count": 46,
   "metadata": {},
   "outputs": [
    {
     "data": {
      "text/html": [
       "<div>\n",
       "<style scoped>\n",
       "    .dataframe tbody tr th:only-of-type {\n",
       "        vertical-align: middle;\n",
       "    }\n",
       "\n",
       "    .dataframe tbody tr th {\n",
       "        vertical-align: top;\n",
       "    }\n",
       "\n",
       "    .dataframe thead th {\n",
       "        text-align: right;\n",
       "    }\n",
       "</style>\n",
       "<table border=\"1\" class=\"dataframe\">\n",
       "  <thead>\n",
       "    <tr style=\"text-align: right;\">\n",
       "      <th></th>\n",
       "      <th>job_title</th>\n",
       "      <th>company_name</th>\n",
       "      <th>location</th>\n",
       "      <th>summary</th>\n",
       "      <th>salary</th>\n",
       "    </tr>\n",
       "  </thead>\n",
       "  <tbody>\n",
       "    <tr>\n",
       "      <th>0</th>\n",
       "      <td>Summer Intern, Data Science &amp; Engineering</td>\n",
       "      <td>HSBC Bank Canada</td>\n",
       "      <td>Toronto, ON</td>\n",
       "      <td>This could be building and changing predictive...</td>\n",
       "      <td>Nothing_found</td>\n",
       "    </tr>\n",
       "    <tr>\n",
       "      <th>1</th>\n",
       "      <td>Student Intern</td>\n",
       "      <td>Skyworks</td>\n",
       "      <td>Ottawa, ON</td>\n",
       "      <td>Has strong data analysis skill. Support PEs wi...</td>\n",
       "      <td>Nothing_found</td>\n",
       "    </tr>\n",
       "    <tr>\n",
       "      <th>2</th>\n",
       "      <td>Dog Sitter</td>\n",
       "      <td>Rover</td>\n",
       "      <td>Ottawa, ON</td>\n",
       "      <td>Rover dog sitters come from a variety of backg...</td>\n",
       "      <td>$1,000 a week</td>\n",
       "    </tr>\n",
       "    <tr>\n",
       "      <th>3</th>\n",
       "      <td>Care for Dogs</td>\n",
       "      <td>Rover</td>\n",
       "      <td>Ottawa, ON</td>\n",
       "      <td>Rover dog sitters come from a variety of backg...</td>\n",
       "      <td>$1,000 a week</td>\n",
       "    </tr>\n",
       "    <tr>\n",
       "      <th>4</th>\n",
       "      <td>Dog Boarding</td>\n",
       "      <td>Rover</td>\n",
       "      <td>Ottawa, ON</td>\n",
       "      <td>Rover dog sitters come from a variety of backg...</td>\n",
       "      <td>$1,000 a week</td>\n",
       "    </tr>\n",
       "  </tbody>\n",
       "</table>\n",
       "</div>"
      ],
      "text/plain": [
       "                                   job_title      company_name     location  \\\n",
       "0  Summer Intern, Data Science & Engineering  HSBC Bank Canada  Toronto, ON   \n",
       "1                             Student Intern          Skyworks   Ottawa, ON   \n",
       "2                                 Dog Sitter             Rover   Ottawa, ON   \n",
       "3                              Care for Dogs             Rover   Ottawa, ON   \n",
       "4                               Dog Boarding             Rover   Ottawa, ON   \n",
       "\n",
       "                                             summary         salary  \n",
       "0  This could be building and changing predictive...  Nothing_found  \n",
       "1  Has strong data analysis skill. Support PEs wi...  Nothing_found  \n",
       "2  Rover dog sitters come from a variety of backg...  $1,000 a week  \n",
       "3  Rover dog sitters come from a variety of backg...  $1,000 a week  \n",
       "4  Rover dog sitters come from a variety of backg...  $1,000 a week  "
      ]
     },
     "execution_count": 46,
     "metadata": {},
     "output_type": "execute_result"
    }
   ],
   "source": [
    "# https://stackoverflow.com/questions/28885073/reindexing-after-pandas-drop-duplicates\n",
    "# reindex using pandas builtin\n",
    "df = df.reset_index(drop=True)\n",
    "df.head()"
   ]
  },
  {
   "cell_type": "code",
   "execution_count": null,
   "metadata": {},
   "outputs": [],
   "source": []
  }
 ],
 "metadata": {
  "kernelspec": {
   "display_name": "Python 3",
   "language": "python",
   "name": "python3"
  },
  "language_info": {
   "codemirror_mode": {
    "name": "ipython",
    "version": 3
   },
   "file_extension": ".py",
   "mimetype": "text/x-python",
   "name": "python",
   "nbconvert_exporter": "python",
   "pygments_lexer": "ipython3",
   "version": "3.6.5"
  }
 },
 "nbformat": 4,
 "nbformat_minor": 2
}
