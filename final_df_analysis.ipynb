{
 "cells": [
  {
   "cell_type": "markdown",
   "metadata": {},
   "source": [
    "### Indeed.ca Internship Data Preliminary Analysis"
   ]
  },
  {
   "cell_type": "markdown",
   "metadata": {},
   "source": [
    "#### Python Pandas, Matplotlib & Others"
   ]
  },
  {
   "cell_type": "code",
   "execution_count": 100,
   "metadata": {},
   "outputs": [],
   "source": [
    "# Visualize job titles, company, location\n",
    "# Summary NLP?"
   ]
  },
  {
   "cell_type": "code",
   "execution_count": 125,
   "metadata": {},
   "outputs": [],
   "source": [
    "import pandas as pd\n",
    "import numpy as np\n",
    "import matplotlib.pyplot as plt #includes seaborn and wordcloud\n",
    "from PIL import Image #python imaging library\n",
    "from os import path\n",
    "from wordcloud import WordCloud, STOPWORDS, ImageColorGenerator"
   ]
  },
  {
   "cell_type": "code",
   "execution_count": 126,
   "metadata": {},
   "outputs": [],
   "source": [
    "df = pd.read_csv(\"sept_final_scrape.csv\",usecols = ['job_title','company_name','location','summary','salary'])"
   ]
  },
  {
   "cell_type": "code",
   "execution_count": 127,
   "metadata": {},
   "outputs": [
    {
     "data": {
      "text/html": [
       "<div>\n",
       "<style scoped>\n",
       "    .dataframe tbody tr th:only-of-type {\n",
       "        vertical-align: middle;\n",
       "    }\n",
       "\n",
       "    .dataframe tbody tr th {\n",
       "        vertical-align: top;\n",
       "    }\n",
       "\n",
       "    .dataframe thead th {\n",
       "        text-align: right;\n",
       "    }\n",
       "</style>\n",
       "<table border=\"1\" class=\"dataframe\">\n",
       "  <thead>\n",
       "    <tr style=\"text-align: right;\">\n",
       "      <th></th>\n",
       "      <th>job_title</th>\n",
       "      <th>company_name</th>\n",
       "      <th>location</th>\n",
       "      <th>summary</th>\n",
       "      <th>salary</th>\n",
       "    </tr>\n",
       "  </thead>\n",
       "  <tbody>\n",
       "    <tr>\n",
       "      <th>0</th>\n",
       "      <td>Summer Intern, Data Science &amp; Engineering</td>\n",
       "      <td>HSBC Bank Canada</td>\n",
       "      <td>Toronto, ON</td>\n",
       "      <td>This could be building and changing predictive...</td>\n",
       "      <td>Nothing_found</td>\n",
       "    </tr>\n",
       "    <tr>\n",
       "      <th>1</th>\n",
       "      <td>Student Intern</td>\n",
       "      <td>Skyworks</td>\n",
       "      <td>Ottawa, ON</td>\n",
       "      <td>Has strong data analysis skill. Support PEs wi...</td>\n",
       "      <td>Nothing_found</td>\n",
       "    </tr>\n",
       "    <tr>\n",
       "      <th>2</th>\n",
       "      <td>Data Scientist Intern</td>\n",
       "      <td>Geotab</td>\n",
       "      <td>Oakville, ON</td>\n",
       "      <td>As a Data Scientist Intern, you will work alon...</td>\n",
       "      <td>Nothing_found</td>\n",
       "    </tr>\n",
       "    <tr>\n",
       "      <th>3</th>\n",
       "      <td>Data Engineer, Omnia AI - Co-op/Intern Winter ...</td>\n",
       "      <td>Deloitte</td>\n",
       "      <td>Toronto, ON</td>\n",
       "      <td>Fascinated with data structures, data models a...</td>\n",
       "      <td>Nothing_found</td>\n",
       "    </tr>\n",
       "    <tr>\n",
       "      <th>4</th>\n",
       "      <td>Data Science Intern - Winter 2020 (Toronto)</td>\n",
       "      <td>Intact</td>\n",
       "      <td>Toronto, ON</td>\n",
       "      <td>We are currently looking for interns for our D...</td>\n",
       "      <td>Nothing_found</td>\n",
       "    </tr>\n",
       "  </tbody>\n",
       "</table>\n",
       "</div>"
      ],
      "text/plain": [
       "                                           job_title      company_name  \\\n",
       "0          Summer Intern, Data Science & Engineering  HSBC Bank Canada   \n",
       "1                                     Student Intern          Skyworks   \n",
       "2                              Data Scientist Intern            Geotab   \n",
       "3  Data Engineer, Omnia AI - Co-op/Intern Winter ...          Deloitte   \n",
       "4        Data Science Intern - Winter 2020 (Toronto)            Intact   \n",
       "\n",
       "       location                                            summary  \\\n",
       "0   Toronto, ON  This could be building and changing predictive...   \n",
       "1    Ottawa, ON  Has strong data analysis skill. Support PEs wi...   \n",
       "2  Oakville, ON  As a Data Scientist Intern, you will work alon...   \n",
       "3   Toronto, ON  Fascinated with data structures, data models a...   \n",
       "4   Toronto, ON  We are currently looking for interns for our D...   \n",
       "\n",
       "          salary  \n",
       "0  Nothing_found  \n",
       "1  Nothing_found  \n",
       "2  Nothing_found  \n",
       "3  Nothing_found  \n",
       "4  Nothing_found  "
      ]
     },
     "execution_count": 127,
     "metadata": {},
     "output_type": "execute_result"
    }
   ],
   "source": [
    "df.head()"
   ]
  },
  {
   "cell_type": "code",
   "execution_count": 104,
   "metadata": {},
   "outputs": [],
   "source": [
    "# make a wordcloud for job_title?\n",
    "# https://www.datacamp.com/community/tutorials/wordcloud-python"
   ]
  },
  {
   "cell_type": "code",
   "execution_count": 105,
   "metadata": {},
   "outputs": [
    {
     "name": "stdout",
     "output_type": "stream",
     "text": [
      "There are 976 observations and 5 features in this dataset. \n",
      "\n",
      "There are 252 companies in this dataset such as HSBC Bank Canada, Skyworks, Geotab, Deloitte, Intact... \n",
      "\n",
      "There are 74 locations hiring interns Toronto, ON, Ottawa, ON, Oakville, ON, Oshawa, ON, Winnipeg, MB... \n",
      "\n",
      "There are 24 listings with salary info, while for most nothing is found, some sample salary listings are $40,000 a year, $39,027 a year, $18 an hour, $2,700 a month... \n",
      "\n"
     ]
    }
   ],
   "source": [
    "# basic tallies\n",
    "print(\"There are {} observations and {} features in this dataset. \\n\".format(df.shape[0],df.shape[1]))\n",
    "print(\"There are {} companies in this dataset such as {}... \\n\".format(len(df.company_name.unique()),\", \".join(df.company_name.unique()[0:5])))\n",
    "print(\"There are {} locations hiring interns {}... \\n\".format(len(df.location.unique()),\", \".join(df.location.unique()[0:5])))\n",
    "print(\"There are {} listings with salary info, while for most nothing is found, some sample salary listings are {}... \\n\".format(len(df.salary.unique())-1,\", \".join(df.salary.unique()[1:5])))"
   ]
  },
  {
   "cell_type": "code",
   "execution_count": 155,
   "metadata": {},
   "outputs": [
    {
     "data": {
      "text/plain": [
       "Red Deer, AB              5\n",
       "Fort McMurray, AB         4\n",
       "Ontario                   2\n",
       "Legal, AB                 1\n",
       "Red Deer County, AB       2\n",
       "Strathmore, AB            1\n",
       "Hazelton, BC              1\n",
       "Kanata, ON                1\n",
       "North York, ON            5\n",
       "Cochrane, AB              8\n",
       "Kitchener, ON             3\n",
       "Guelph, ON                1\n",
       "Camrose, AB               1\n",
       "Richmond, BC              3\n",
       "Cambridge, ON             1\n",
       "Montréal, QC            129\n",
       "Quebec City, QC          10\n",
       "Sault Ste. Marie, ON      2\n",
       "Cory, SK                  3\n",
       "Edmonton, AB              2\n",
       "Coquitlam, BC             4\n",
       "Bedford, NS               3\n",
       "Oakville, ON             18\n",
       "Truro, NS                 2\n",
       "Grande Prairie, AB        1\n",
       "Kincardine, ON            1\n",
       "Calgary, AB              39\n",
       "Mississauga, ON          11\n",
       "Pointe-Claire, QC         1\n",
       "Waterloo, ON             10\n",
       "                       ... \n",
       "Scarborough, ON           3\n",
       "London, ON                5\n",
       "Brampton, ON              4\n",
       "Woodstock, ON             1\n",
       "Vancouver, BC           109\n",
       "West, ON                 25\n",
       "Burnaby, BC               1\n",
       "Ottawa, ON               75\n",
       "Collingwood, ON           1\n",
       "Port Moody, BC            2\n",
       "Stratford, ON             1\n",
       "Oshawa, ON                1\n",
       "Bromont, QC               1\n",
       "Peterborough, ON          1\n",
       "Toronto, ON             347\n",
       "Lévis, QC                 1\n",
       "West Vancouver, BC        1\n",
       "Greater Sudbury, ON       5\n",
       "Labrador City, NL         2\n",
       "Windsor, ON               1\n",
       "Florenceville, NB         1\n",
       "Thunder Bay, ON           6\n",
       "Hamilton, ON              1\n",
       "Saint-Hubert, QC          4\n",
       "Sackville, NB             1\n",
       "Leader, SK                2\n",
       "Alberta                  13\n",
       "Street, ON                1\n",
       "Burlington, ON            1\n",
       "Acheson, AB               1\n",
       "Length: 74, dtype: int64"
      ]
     },
     "execution_count": 155,
     "metadata": {},
     "output_type": "execute_result"
    }
   ],
   "source": [
    "# interested in looking at location stats\n",
    "location = pd.value_counts(df['location'].values, sort=False)\n",
    "#location = location.to_frame(name=\"count\")\n",
    "#location = location.rename_axis('location')\n",
    "location"
   ]
  },
  {
   "cell_type": "code",
   "execution_count": 142,
   "metadata": {},
   "outputs": [
    {
     "data": {
      "text/plain": [
       "5"
      ]
     },
     "execution_count": 142,
     "metadata": {},
     "output_type": "execute_result"
    }
   ],
   "source": [
    "location['Red Deer, AB']"
   ]
  },
  {
   "cell_type": "code",
   "execution_count": 154,
   "metadata": {},
   "outputs": [],
   "source": [
    "# top 5 cities with most job postings\n",
    "# location.nlargest(5, 'count')"
   ]
  },
  {
   "cell_type": "code",
   "execution_count": 137,
   "metadata": {},
   "outputs": [
    {
     "name": "stdout",
     "output_type": "stream",
     "text": [
      "['Red Deer, AB', 'Fort McMurray, AB', 'Ontario', 'Legal, AB', 'Red Deer County, AB', 'Strathmore, AB', 'Hazelton, BC', 'Kanata, ON', 'North York, ON', 'Cochrane, AB', 'Kitchener, ON', 'Guelph, ON', 'Camrose, AB', 'Richmond, BC', 'Cambridge, ON', 'Montréal, QC', 'Quebec City, QC', 'Sault Ste. Marie, ON', 'Cory, SK', 'Edmonton, AB', 'Coquitlam, BC', 'Bedford, NS', 'Oakville, ON', 'Truro, NS', 'Grande Prairie, AB', 'Kincardine, ON', 'Calgary, AB', 'Mississauga, ON', 'Pointe-Claire, QC', 'Waterloo, ON', 'Canada', 'Markham, ON', 'Newmarket, ON', 'Surrey, BC', \"St. John's, NL\", 'Copenhagen, ON', 'Dartmouth, NS', 'Concord, ON', 'Halifax, NS', 'Victoria, BC', 'Rocanville, SK', 'Sheppard, ON', 'Saint-Laurent, QC', 'Winnipeg, MB', 'Scarborough, ON', 'London, ON', 'Brampton, ON', 'Woodstock, ON', 'Vancouver, BC', 'West, ON', 'Burnaby, BC', 'Ottawa, ON', 'Collingwood, ON', 'Port Moody, BC', 'Stratford, ON', 'Oshawa, ON', 'Bromont, QC', 'Peterborough, ON', 'Toronto, ON', 'Lévis, QC', 'West Vancouver, BC', 'Greater Sudbury, ON', 'Labrador City, NL', 'Windsor, ON', 'Florenceville, NB', 'Thunder Bay, ON', 'Hamilton, ON', 'Saint-Hubert, QC', 'Sackville, NB', 'Leader, SK', 'Alberta', 'Street, ON', 'Burlington, ON', 'Acheson, AB']\n",
      "[5, 4, 2, 1, 2, 1, 1, 1, 5, 8, 3, 1, 1, 3, 1, 129, 10, 2, 3, 2, 4, 3, 18, 2, 1, 1, 39, 11, 1, 10, 13, 23, 1, 2, 2, 2, 1, 1, 4, 10, 1, 5, 5, 13, 3, 5, 4, 1, 109, 25, 1, 75, 1, 2, 1, 1, 1, 1, 347, 1, 1, 5, 2, 1, 1, 6, 1, 4, 1, 2, 13, 1, 1, 1]\n"
     ]
    }
   ],
   "source": [
    "locations = location.index.tolist()\n",
    "count = []\n",
    "for l in locations:\n",
    "    count.append(location[l])\n",
    "print(locations)\n",
    "print(count)"
   ]
  },
  {
   "cell_type": "code",
   "execution_count": 183,
   "metadata": {},
   "outputs": [
    {
     "data": {
      "image/png": "[encoded data removed]",
      "text/plain": [
       "<Figure size 640x480 with 1 Axes>"
      ]
     },
     "metadata": {},
     "output_type": "display_data"
    }
   ],
   "source": [
    "import matplotlib.pyplot as plt; plt.rcdefaults()\n",
    "import numpy as np\n",
    "import matplotlib.pyplot as plt\n",
    "\n",
    "objects = locations_sorted\n",
    "y_pos = np.arange(len(objects))\n",
    "performance = count_sorted\n",
    "\n",
    "plt.bar(y_pos, performance, align='center', alpha=0.5)\n",
    "plt.xticks(y_pos, objects)\n",
    "plt.ylabel('Usage')\n",
    "plt.title('Programming language usage')\n",
    "\n",
    "plt.show()"
   ]
  },
  {
   "cell_type": "code",
   "execution_count": 163,
   "metadata": {},
   "outputs": [
    {
     "data": {
      "text/plain": [
       "['Red Deer, AB',\n",
       " 'Fort McMurray, AB',\n",
       " 'Ontario',\n",
       " 'Legal, AB',\n",
       " 'Red Deer County, AB',\n",
       " 'Strathmore, AB',\n",
       " 'Hazelton, BC',\n",
       " 'Kanata, ON',\n",
       " 'North York, ON',\n",
       " 'Cochrane, AB',\n",
       " 'Kitchener, ON',\n",
       " 'Guelph, ON',\n",
       " 'Camrose, AB',\n",
       " 'Richmond, BC',\n",
       " 'Cambridge, ON',\n",
       " 'Montréal, QC',\n",
       " 'Quebec City, QC',\n",
       " 'Sault Ste. Marie, ON',\n",
       " 'Cory, SK',\n",
       " 'Edmonton, AB',\n",
       " 'Coquitlam, BC',\n",
       " 'Bedford, NS',\n",
       " 'Oakville, ON',\n",
       " 'Truro, NS',\n",
       " 'Grande Prairie, AB',\n",
       " 'Kincardine, ON',\n",
       " 'Calgary, AB',\n",
       " 'Mississauga, ON',\n",
       " 'Pointe-Claire, QC',\n",
       " 'Waterloo, ON',\n",
       " 'Canada',\n",
       " 'Markham, ON',\n",
       " 'Newmarket, ON',\n",
       " 'Surrey, BC',\n",
       " \"St. John's, NL\",\n",
       " 'Copenhagen, ON',\n",
       " 'Dartmouth, NS',\n",
       " 'Concord, ON',\n",
       " 'Halifax, NS',\n",
       " 'Victoria, BC',\n",
       " 'Rocanville, SK',\n",
       " 'Sheppard, ON',\n",
       " 'Saint-Laurent, QC',\n",
       " 'Winnipeg, MB',\n",
       " 'Scarborough, ON',\n",
       " 'London, ON',\n",
       " 'Brampton, ON',\n",
       " 'Woodstock, ON',\n",
       " 'Vancouver, BC',\n",
       " 'West, ON',\n",
       " 'Burnaby, BC',\n",
       " 'Ottawa, ON',\n",
       " 'Collingwood, ON',\n",
       " 'Port Moody, BC',\n",
       " 'Stratford, ON',\n",
       " 'Oshawa, ON',\n",
       " 'Bromont, QC',\n",
       " 'Peterborough, ON',\n",
       " 'Toronto, ON',\n",
       " 'Lévis, QC',\n",
       " 'West Vancouver, BC',\n",
       " 'Greater Sudbury, ON',\n",
       " 'Labrador City, NL',\n",
       " 'Windsor, ON',\n",
       " 'Florenceville, NB',\n",
       " 'Thunder Bay, ON',\n",
       " 'Hamilton, ON',\n",
       " 'Saint-Hubert, QC',\n",
       " 'Sackville, NB',\n",
       " 'Leader, SK',\n",
       " 'Alberta',\n",
       " 'Street, ON',\n",
       " 'Burlington, ON',\n",
       " 'Acheson, AB']"
      ]
     },
     "execution_count": 163,
     "metadata": {},
     "output_type": "execute_result"
    }
   ],
   "source": [
    "locations"
   ]
  },
  {
   "cell_type": "code",
   "execution_count": 166,
   "metadata": {},
   "outputs": [
    {
     "data": {
      "text/plain": [
       "array([36, 28, 32, 72, 37, 40, 47, 50, 52, 54, 55, 56, 57, 59, 60, 63, 64,\n",
       "       66, 68, 71, 25, 24, 73, 12, 11, 14,  7,  6,  5,  3, 62, 53, 17, 35,\n",
       "       23, 33, 34, 69, 19,  4,  2, 18, 44, 10, 21, 13, 38, 67, 46, 20,  1,\n",
       "       61,  8,  0, 45, 42, 41, 65,  9, 39, 29, 16, 27, 70, 43, 30, 22, 31,\n",
       "       49, 26, 51, 48, 15, 58])"
      ]
     },
     "execution_count": 166,
     "metadata": {},
     "output_type": "execute_result"
    }
   ],
   "source": [
    "np.argsort(count)"
   ]
  },
  {
   "cell_type": "code",
   "execution_count": 169,
   "metadata": {},
   "outputs": [
    {
     "data": {
      "text/plain": [
       "array([ 1,  3, 10])"
      ]
     },
     "execution_count": 169,
     "metadata": {},
     "output_type": "execute_result"
    }
   ],
   "source": [
    "np.sort([3,10,1])"
   ]
  },
  {
   "cell_type": "code",
   "execution_count": 176,
   "metadata": {},
   "outputs": [
    {
     "data": {
      "text/plain": [
       "array([ 1,  3, 10])"
      ]
     },
     "execution_count": 176,
     "metadata": {},
     "output_type": "execute_result"
    }
   ],
   "source": [
    "np.array([3,10,1])[np.argsort([3,10,1])]"
   ]
  },
  {
   "cell_type": "code",
   "execution_count": 175,
   "metadata": {},
   "outputs": [
    {
     "data": {
      "text/plain": [
       "array([2, 0, 1])"
      ]
     },
     "execution_count": 175,
     "metadata": {},
     "output_type": "execute_result"
    }
   ],
   "source": [
    "np.argsort([3,10,1])"
   ]
  },
  {
   "cell_type": "code",
   "execution_count": 181,
   "metadata": {},
   "outputs": [],
   "source": [
    "locations_sorted = np.array(locations)[np.argsort(count)]"
   ]
  },
  {
   "cell_type": "code",
   "execution_count": 182,
   "metadata": {},
   "outputs": [],
   "source": [
    "count_sorted = np.sort(count)"
   ]
  },
  {
   "cell_type": "code",
   "execution_count": null,
   "metadata": {},
   "outputs": [],
   "source": []
  }
 ],
 "metadata": {
  "kernelspec": {
   "display_name": "Python 3",
   "language": "python",
   "name": "python3"
  },
  "language_info": {
   "codemirror_mode": {
    "name": "ipython",
    "version": 3
   },
   "file_extension": ".py",
   "mimetype": "text/x-python",
   "name": "python",
   "nbconvert_exporter": "python",
   "pygments_lexer": "ipython3",
   "version": "3.6.5"
  }
 },
 "nbformat": 4,
 "nbformat_minor": 2
}
